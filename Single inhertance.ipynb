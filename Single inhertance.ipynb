{
 "cells": [
  {
   "cell_type": "code",
   "execution_count": 7,
   "id": "cfec88c9",
   "metadata": {},
   "outputs": [
    {
     "name": "stdout",
     "output_type": "stream",
     "text": [
      "60\n"
     ]
    }
   ],
   "source": [
    "class ABC():\n",
    "    def __init__(self):\n",
    "        self.a=20\n",
    "class xyz(ABC):\n",
    "    def __init__(self):\n",
    "        self.b=40\n",
    "        ABC.__init__(self)\n",
    "    def display(self):\n",
    "        print(self.a + self.b)\n",
    "\n",
    "xyz=xyz()\n",
    "xyz.display()\n",
    "    "
   ]
  },
  {
   "cell_type": "code",
   "execution_count": 18,
   "id": "5b187827",
   "metadata": {},
   "outputs": [
    {
     "name": "stdout",
     "output_type": "stream",
     "text": [
      "60\n",
      "Hi\n"
     ]
    }
   ],
   "source": [
    "class ABC():\n",
    "    def __init__(self):\n",
    "        self.a=20\n",
    "    def show(self):\n",
    "        print(\"Hi\")\n",
    "        \n",
    "class xyz(ABC):\n",
    "    def __init__(self):\n",
    "        self.b=40\n",
    "        ABC.__init__(self)\n",
    "    def display(self):\n",
    "        print(self.a + self.b)\n",
    "\n",
    "xyz=xyz()\n",
    "xyz.display()\n",
    "xyz.show()\n",
    "\n",
    "    "
   ]
  },
  {
   "cell_type": "code",
   "execution_count": 11,
   "id": "131f741a",
   "metadata": {},
   "outputs": [
    {
     "name": "stdout",
     "output_type": "stream",
     "text": [
      "9\n"
     ]
    }
   ],
   "source": [
    "class ABC():\n",
    "    def __init__(self,A):\n",
    "        self.a=A\n",
    "    def show(self):\n",
    "        print(\"Hi \")\n",
    "class xyz(ABC):\n",
    "    def __init__(self,aa,bb):\n",
    "        self.b=bb\n",
    "        ABC.__init__(self,aa)\n",
    "    def display(self):\n",
    "        print(self.a + self.b)\n",
    "\n",
    "xyz=xyz(4,5)\n",
    "xyz.display()\n"
   ]
  },
  {
   "cell_type": "code",
   "execution_count": 15,
   "id": "ffa0f054",
   "metadata": {},
   "outputs": [
    {
     "name": "stdout",
     "output_type": "stream",
     "text": [
      "hi from c\n",
      "enter adresschitwan\n",
      "chitwan\n",
      "enter nameBikal Baniya\n",
      "Bikal Baniya\n"
     ]
    }
   ],
   "source": [
    "class A():\n",
    "    def show(self):\n",
    "        username= input(\"enter name\")\n",
    "        print(username)\n",
    "class B():\n",
    "    def display(self):\n",
    "        address= input(\"enter adress\")\n",
    "        print(address)\n",
    "class C(A,B):\n",
    "    def __init__(self):\n",
    "        print(\"hi from c\")\n",
    "cc=C()\n",
    "cc.display()\n",
    "cc.show()\n",
    "\n",
    "\n",
    "\n"
   ]
  },
  {
   "cell_type": "code",
   "execution_count": 31,
   "id": "6013934a",
   "metadata": {},
   "outputs": [
    {
     "name": "stdout",
     "output_type": "stream",
     "text": [
      "enter nameb\n",
      "enter adresss\n",
      "enter roll1\n",
      "name b\n",
      "address s\n",
      "roll 1\n"
     ]
    }
   ],
   "source": [
    "class A():\n",
    "    def __init__(self):\n",
    "        self.name=input(\"enter name\")\n",
    "        self.address=input(\"enter adress\")\n",
    "        self.roll=input(\"enter roll\")\n",
    "class B(A):\n",
    "    def __init__(self):\n",
    "        A.__init__(self)\n",
    "        print('name',self.name)\n",
    "        print('address',self.address)\n",
    "        print('roll',self.roll)\n",
    "    \n",
    "#     def display(self):\n",
    "#         print('name',self.name)\n",
    "#         print('address',self.address)\n",
    "#         print('roll',self.roll)\n",
    "        \n",
    "\n",
    "a = B()\n",
    "# a.display()\n",
    "\n"
   ]
  },
  {
   "cell_type": "code",
   "execution_count": 41,
   "id": "d39f8fa5",
   "metadata": {},
   "outputs": [
    {
     "name": "stdout",
     "output_type": "stream",
     "text": [
      "enter namev\n",
      "enter adressc\n",
      "enter roll1\n",
      "enter parents details\n",
      "enter parent named\n",
      "enter parent addressq\n"
     ]
    }
   ],
   "source": [
    "class A():\n",
    "    def __init__(self):\n",
    "        self.name=input(\"enter name\")\n",
    "        self.address=input(\"enter adress\")\n",
    "        self.roll=input(\"enter roll\")\n",
    "class B(A):\n",
    "    def __init__(self):\n",
    "        A.__init__(self)\n",
    "        \n",
    "        print(\"enter parents details\")\n",
    "        self.pname=input(\"enter parent name\")\n",
    "        self.paddress=input(\"enter parent address\")\n",
    "        self.pphone_number=(\"enter parent phone number\")\n",
    "class C(B):\n",
    "    \n",
    "    def __init__(self):\n",
    "        B.__init__(self)\n",
    "        \n",
    "    def display(self):\n",
    "        print(\"Your Details\")\n",
    "        print('name',self.name)\n",
    "        print('Address',self.address)\n",
    "        print('phone number',self.phone_number)\n",
    "        print('pname',self.pname)\n",
    "        print('padress',self.paddress)\n",
    "        print('pphonenumber',self.pphonenumber)\n",
    "obj=C()\n",
    "\n",
    "                  \n"
   ]
  },
  {
   "cell_type": "code",
   "execution_count": null,
   "id": "4301ed5a",
   "metadata": {},
   "outputs": [],
   "source": []
  }
 ],
 "metadata": {
  "kernelspec": {
   "display_name": "Python 3 (ipykernel)",
   "language": "python",
   "name": "python3"
  },
  "language_info": {
   "codemirror_mode": {
    "name": "ipython",
    "version": 3
   },
   "file_extension": ".py",
   "mimetype": "text/x-python",
   "name": "python",
   "nbconvert_exporter": "python",
   "pygments_lexer": "ipython3",
   "version": "3.11.4"
  }
 },
 "nbformat": 4,
 "nbformat_minor": 5
}
