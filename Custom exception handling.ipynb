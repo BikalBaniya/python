{
 "cells": [
  {
   "cell_type": "code",
   "execution_count": 1,
   "id": "69f26b57",
   "metadata": {},
   "outputs": [
    {
     "ename": "SyntaxError",
     "evalue": "invalid decimal literal (3843544509.py, line 1)",
     "output_type": "error",
     "traceback": [
      "\u001b[1;36m  Cell \u001b[1;32mIn[1], line 1\u001b[1;36m\u001b[0m\n\u001b[1;33m    needs class 1st theh\u001b[0m\n\u001b[1;37m                ^\u001b[0m\n\u001b[1;31mSyntaxError\u001b[0m\u001b[1;31m:\u001b[0m invalid decimal literal\n"
     ]
    }
   ],
   "source": [
    "needs class 1st then"
   ]
  },
  {
   "cell_type": "code",
   "execution_count": 5,
   "id": "e3cf57f2",
   "metadata": {},
   "outputs": [
    {
     "ename": "NameError",
     "evalue": "name 'exception' is not defined",
     "output_type": "error",
     "traceback": [
      "\u001b[1;31m---------------------------------------------------------------------------\u001b[0m",
      "\u001b[1;31mNameError\u001b[0m                                 Traceback (most recent call last)",
      "Cell \u001b[1;32mIn[5], line 2\u001b[0m\n\u001b[0;32m      1\u001b[0m \u001b[38;5;28;01mtry\u001b[39;00m:\n\u001b[1;32m----> 2\u001b[0m     \u001b[38;5;28mprint\u001b[39m(\u001b[43ma\u001b[49m)\n\u001b[0;32m      3\u001b[0m \u001b[38;5;28;01mexcept\u001b[39;00m exception \u001b[38;5;28;01mas\u001b[39;00m e:\n",
      "\u001b[1;31mNameError\u001b[0m: name 'a' is not defined",
      "\nDuring handling of the above exception, another exception occurred:\n",
      "\u001b[1;31mNameError\u001b[0m                                 Traceback (most recent call last)",
      "Cell \u001b[1;32mIn[5], line 3\u001b[0m\n\u001b[0;32m      1\u001b[0m \u001b[38;5;28;01mtry\u001b[39;00m:\n\u001b[0;32m      2\u001b[0m     \u001b[38;5;28mprint\u001b[39m(a)\n\u001b[1;32m----> 3\u001b[0m \u001b[38;5;28;01mexcept\u001b[39;00m \u001b[43mexception\u001b[49m \u001b[38;5;28;01mas\u001b[39;00m e:\n\u001b[0;32m      4\u001b[0m     \u001b[38;5;28mprint\u001b[39m((e))\n",
      "\u001b[1;31mNameError\u001b[0m: name 'exception' is not defined"
     ]
    }
   ],
   "source": [
    "try:\n",
    "    print(a)\n",
    "except exception as e:\n",
    "    print((e))"
   ]
  },
  {
   "cell_type": "code",
   "execution_count": 6,
   "id": "82f78cd3",
   "metadata": {},
   "outputs": [
    {
     "ename": "SyntaxError",
     "evalue": "invalid syntax (4214130198.py, line 1)",
     "output_type": "error",
     "traceback": [
      "\u001b[1;36m  Cell \u001b[1;32mIn[6], line 1\u001b[1;36m\u001b[0m\n\u001b[1;33m    custom exception handling\u001b[0m\n\u001b[1;37m           ^\u001b[0m\n\u001b[1;31mSyntaxError\u001b[0m\u001b[1;31m:\u001b[0m invalid syntax\n"
     ]
    }
   ],
   "source": [
    "custom exception handling \n",
    "syntax:\n",
    "    class custom_exception(exception):\n",
    "        raise(\"\")\n",
    "        pass\n",
    "    try:\n",
    "        print(a)\n",
    "        raise custom exception\n",
    "    except exception as e:\n",
    "        print(e)"
   ]
  },
  {
   "cell_type": "code",
   "execution_count": 12,
   "id": "c7c9ebcd",
   "metadata": {},
   "outputs": [
    {
     "ename": "SyntaxError",
     "evalue": "invalid syntax (4257132507.py, line 3)",
     "output_type": "error",
     "traceback": [
      "\u001b[1;36m  Cell \u001b[1;32mIn[12], line 3\u001b[1;36m\u001b[0m\n\u001b[1;33m    user age=int(input_user(\"enter your age\"))\u001b[0m\n\u001b[1;37m         ^\u001b[0m\n\u001b[1;31mSyntaxError\u001b[0m\u001b[1;31m:\u001b[0m invalid syntax\n"
     ]
    }
   ],
   "source": [
    "age=18\n",
    "try:\n",
    "    user age=int(input_user(\"enter your age\"))\n",
    "    if use_age==age:\n",
    "        print(\"you can drive\")\n",
    "    else:\n",
    "        print(\"you are not allow to drive\")\n",
    "except exception as e:\n",
    "    print(e)"
   ]
  },
  {
   "cell_type": "code",
   "execution_count": 20,
   "id": "6ecf1319",
   "metadata": {},
   "outputs": [
    {
     "name": "stdout",
     "output_type": "stream",
     "text": [
      "enter your age19\n",
      "you can drive\n"
     ]
    }
   ],
   "source": [
    "class UnderAgeError(Exception):\n",
    "    pass\n",
    "\n",
    "age=18\n",
    "try:\n",
    "    user_age=int(input(\"enter your age\"))\n",
    "    if user_age >= age:\n",
    "        print(\"you can drive\")\n",
    "    else:\n",
    "        raise UnderAgeError(\"you are not allow to drive\")\n",
    "except UnderAgeError as e:\n",
    "    print(e)"
   ]
  },
  {
   "cell_type": "code",
   "execution_count": 32,
   "id": "e2d55537",
   "metadata": {},
   "outputs": [
    {
     "name": "stdout",
     "output_type": "stream",
     "text": [
      "enter a  garde1\n",
      "grade is less than\n"
     ]
    }
   ],
   "source": [
    "class GradingSystem(Exception):\n",
    "    pass\n",
    "\n",
    "grading=80\n",
    "maxange =90\n",
    "\n",
    "try:\n",
    "    grade=int(input(\"enter a  garde\"))\n",
    "    if grade >= grading and grade<=maxange :  # if grade >= 40 and grande< =60\n",
    "        print(\"grade is more than 1.6\")\n",
    "    else:\n",
    "        raise GradingSystem(\"grade is less than\")\n",
    "        \n",
    "except GradingSystem as e:\n",
    "    print(e)"
   ]
  },
  {
   "cell_type": "code",
   "execution_count": 37,
   "id": "c4fe6845",
   "metadata": {},
   "outputs": [
    {
     "name": "stdout",
     "output_type": "stream",
     "text": [
      "Enter age17\n",
      "You cannot vote if you are less than 18\n"
     ]
    }
   ],
   "source": [
    "class VotingSystem(Exception):\n",
    "    pass\n",
    "age=18\n",
    "try:\n",
    "    user_age=int(input(\"Enter age\"))\n",
    "    if user_age >=18:\n",
    "        print(\"you can vote if u are 18 or more\")\n",
    "    else:\n",
    "        raise VotingSystem(\"You cannot vote if you are less than 18\")\n",
    "        \n",
    "except VotingSystem as e:\n",
    "    print(e)"
   ]
  },
  {
   "cell_type": "code",
   "execution_count": 43,
   "id": "62eabc1b",
   "metadata": {},
   "outputs": [
    {
     "name": "stdout",
     "output_type": "stream",
     "text": [
      "Enter height of candiate6\n",
      "you height is more than 5.0ft\n"
     ]
    }
   ],
   "source": [
    "class MilitarySelection(Exception):\n",
    "    pass\n",
    "height=5.0\n",
    "try:\n",
    "    user_height=int(input(\"Enter height of candiate\"))\n",
    "    if user_height >=5.0:\n",
    "        print(\"you height is more than 5.0ft\")\n",
    "    else:\n",
    "        raise MilitarySelection(\"Your height is less than 5.0ft\")\n",
    "except MilitarySelection as e:\n",
    "    print(e)"
   ]
  },
  {
   "cell_type": "code",
   "execution_count": 54,
   "id": "e4338a69",
   "metadata": {},
   "outputs": [
    {
     "name": "stdout",
     "output_type": "stream",
     "text": [
      "A can vote\n"
     ]
    }
   ],
   "source": [
    "class Votecard(Exception):\n",
    "    pass\n",
    "def refunction(a):\n",
    "    try:\n",
    "            if a >=18:\n",
    "                raise Votecard(\"A can vote\")\n",
    "            else:\n",
    "                raise Votecard(\"A cannot vote\")\n",
    "    except Votecard as e:\n",
    "        print(e)\n",
    "        \n",
    "refunction(56)"
   ]
  },
  {
   "cell_type": "code",
   "execution_count": null,
   "id": "10fbd06c",
   "metadata": {},
   "outputs": [],
   "source": []
  },
  {
   "cell_type": "code",
   "execution_count": null,
   "id": "b632e8a7",
   "metadata": {},
   "outputs": [],
   "source": []
  }
 ],
 "metadata": {
  "kernelspec": {
   "display_name": "Python 3 (ipykernel)",
   "language": "python",
   "name": "python3"
  },
  "language_info": {
   "codemirror_mode": {
    "name": "ipython",
    "version": 3
   },
   "file_extension": ".py",
   "mimetype": "text/x-python",
   "name": "python",
   "nbconvert_exporter": "python",
   "pygments_lexer": "ipython3",
   "version": "3.11.4"
  }
 },
 "nbformat": 4,
 "nbformat_minor": 5
}
