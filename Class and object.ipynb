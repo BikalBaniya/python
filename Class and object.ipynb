{
 "cells": [
  {
   "cell_type": "code",
   "execution_count": 1,
   "id": "cf49362e",
   "metadata": {},
   "outputs": [
    {
     "ename": "SyntaxError",
     "evalue": "invalid syntax (17575493.py, line 1)",
     "output_type": "error",
     "traceback": [
      "\u001b[1;36m  Cell \u001b[1;32mIn[1], line 1\u001b[1;36m\u001b[0m\n\u001b[1;33m    class  classname();\u001b[0m\n\u001b[1;37m                      ^\u001b[0m\n\u001b[1;31mSyntaxError\u001b[0m\u001b[1;31m:\u001b[0m invalid syntax\n"
     ]
    }
   ],
   "source": [
    "class  classname();\n",
    "\n",
    "obj=className()\n",
    "\n"
   ]
  },
  {
   "cell_type": "code",
   "execution_count": 6,
   "id": "ec2c9b9c",
   "metadata": {},
   "outputs": [
    {
     "name": "stdout",
     "output_type": "stream",
     "text": [
      "hello world\n"
     ]
    }
   ],
   "source": [
    "class ABC():\n",
    "    print(\"hello world\")\n",
    "abc=ABC()"
   ]
  },
  {
   "cell_type": "code",
   "execution_count": 7,
   "id": "7dd2c86a",
   "metadata": {},
   "outputs": [
    {
     "ename": "TypeError",
     "evalue": "ABC.show() takes 0 positional arguments but 1 was given",
     "output_type": "error",
     "traceback": [
      "\u001b[1;31m---------------------------------------------------------------------------\u001b[0m",
      "\u001b[1;31mTypeError\u001b[0m                                 Traceback (most recent call last)",
      "Cell \u001b[1;32mIn[7], line 5\u001b[0m\n\u001b[0;32m      3\u001b[0m         \u001b[38;5;28mprint\u001b[39m(\u001b[38;5;124m\"\u001b[39m\u001b[38;5;124mHi\u001b[39m\u001b[38;5;124m\"\u001b[39m)\n\u001b[0;32m      4\u001b[0m abc\u001b[38;5;241m=\u001b[39mABC()\n\u001b[1;32m----> 5\u001b[0m \u001b[43mabc\u001b[49m\u001b[38;5;241;43m.\u001b[39;49m\u001b[43mshow\u001b[49m\u001b[43m(\u001b[49m\u001b[43m)\u001b[49m\n",
      "\u001b[1;31mTypeError\u001b[0m: ABC.show() takes 0 positional arguments but 1 was given"
     ]
    }
   ],
   "source": [
    "class ABC():\n",
    "    def show():\n",
    "        print(\"Hi\")\n",
    "abc=ABC()\n",
    "abc.show()"
   ]
  },
  {
   "cell_type": "code",
   "execution_count": 11,
   "id": "e70902bf",
   "metadata": {},
   "outputs": [
    {
     "name": "stdout",
     "output_type": "stream",
     "text": [
      "hi\n"
     ]
    }
   ],
   "source": [
    "Funtion oustide the class\n",
    "def show():\n",
    "    print(\"\")\n",
    "modules inside the class\n",
    "\n",
    " class ABC():\n",
    "        def show (self):\n",
    "            print(\"hi\")\n",
    "abc=ABC()\n",
    "abc.show()\n"
   ]
  },
  {
   "cell_type": "code",
   "execution_count": 16,
   "id": "34a45a51",
   "metadata": {},
   "outputs": [
    {
     "name": "stdout",
     "output_type": "stream",
     "text": [
      "I am a boy\n"
     ]
    }
   ],
   "source": [
    "class XYZ():\n",
    "    def show(slelf):\n",
    "        print(\"I am a boy\")\n",
    "xyz=XYZ()\n",
    "xyz.show()"
   ]
  },
  {
   "cell_type": "code",
   "execution_count": 4,
   "id": "5e413c63",
   "metadata": {},
   "outputs": [
    {
     "name": "stdout",
     "output_type": "stream",
     "text": [
      "sum of two numbers 12\n"
     ]
    }
   ],
   "source": [
    "class XYZ():\n",
    "    def show(self, x,y):\n",
    "    \n",
    "        print( \"sum of two numbers\",x+y)\n",
    "obj1=XYZ()\n",
    "obj1.show(5,7)\n",
    "\n",
    "    "
   ]
  },
  {
   "cell_type": "code",
   "execution_count": 5,
   "id": "6ed323df",
   "metadata": {},
   "outputs": [
    {
     "name": "stdout",
     "output_type": "stream",
     "text": [
      "Product of two numbers 35\n"
     ]
    }
   ],
   "source": [
    "class XYZ():\n",
    "    def show(self, x,y):\n",
    "    \n",
    "        print( \"Product of two numbers\",x*y)\n",
    "obj1=XYZ()\n",
    "obj1.show(5,7)\n",
    "\n",
    "    "
   ]
  },
  {
   "cell_type": "code",
   "execution_count": null,
   "id": "088418a6",
   "metadata": {},
   "outputs": [],
   "source": [
    "class XYZ():\n",
    "    def show(self, x,y):\n",
    "    \n",
    "        print( \"Difference of two numbers\",x+y)\n",
    "obj1=XYZ()\n",
    "obj1.show(5,7)\n",
    "\n",
    "    "
   ]
  },
  {
   "cell_type": "code",
   "execution_count": null,
   "id": "a035af57",
   "metadata": {},
   "outputs": [],
   "source": []
  }
 ],
 "metadata": {
  "kernelspec": {
   "display_name": "Python 3 (ipykernel)",
   "language": "python",
   "name": "python3"
  },
  "language_info": {
   "codemirror_mode": {
    "name": "ipython",
    "version": 3
   },
   "file_extension": ".py",
   "mimetype": "text/x-python",
   "name": "python",
   "nbconvert_exporter": "python",
   "pygments_lexer": "ipython3",
   "version": "3.11.4"
  }
 },
 "nbformat": 4,
 "nbformat_minor": 5
}
