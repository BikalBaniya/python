{
 "cells": [
  {
   "cell_type": "code",
   "execution_count": 9,
   "id": "28ae2af6",
   "metadata": {},
   "outputs": [
    {
     "name": "stdout",
     "output_type": "stream",
     "text": [
      "Bikal\n"
     ]
    }
   ],
   "source": [
    "class ABC():\n",
    "    def __init__(self):\n",
    "        print(\"Bikal\")\n",
    "abc=ABC()"
   ]
  },
  {
   "cell_type": "code",
   "execution_count": 12,
   "id": "cfa8b9e3",
   "metadata": {},
   "outputs": [
    {
     "name": "stdout",
     "output_type": "stream",
     "text": [
      "30\n"
     ]
    }
   ],
   "source": [
    "class Addition():\n",
    "    def __init__(self):\n",
    "        self.a=10\n",
    "        self.b=20\n",
    "        print(self.a+self.b)\n",
    "add=Addition()"
   ]
  },
  {
   "cell_type": "code",
   "execution_count": 13,
   "id": "cace46d3",
   "metadata": {},
   "outputs": [
    {
     "name": "stdout",
     "output_type": "stream",
     "text": [
      "0\n"
     ]
    }
   ],
   "source": [
    "class Difference():\n",
    "    def __init__(self):\n",
    "        self.a=20\n",
    "        self.b=20\n",
    "        print(self.a-self.b)\n",
    "sub=Difference()\n"
   ]
  },
  {
   "cell_type": "code",
   "execution_count": 26,
   "id": "71e834d5",
   "metadata": {},
   "outputs": [
    {
     "name": "stdout",
     "output_type": "stream",
     "text": [
      "Enter 1st number5\n",
      "Enter 2nd number8\n",
      "Product of two numbers 40\n",
      "13\n"
     ]
    }
   ],
   "source": [
    "class Product():\n",
    "    def __init__(self):\n",
    "        self.a=int(input(\"Enter 1st number\"))\n",
    "        self.b=int(input(\"Enter 2nd number\"))\n",
    "    def display(self):\n",
    "        Product1= self.a*self.b\n",
    "        print(\"Product of two numbers\",Product1)\n",
    "    def show(self):\n",
    "        print(self.a+self.b)\n",
    "    \n",
    "abc=Product()\n",
    "abc.display()\n",
    "abc.show()\n",
    "\n",
    "        "
   ]
  },
  {
   "cell_type": "code",
   "execution_count": 27,
   "id": "6aa7d643",
   "metadata": {},
   "outputs": [
    {
     "name": "stdout",
     "output_type": "stream",
     "text": [
      "Enter 1st number10\n",
      "Enter 2nd number2\n",
      "Division of two numbers 5.0\n",
      "12\n"
     ]
    }
   ],
   "source": [
    "class Division():\n",
    "    def __init__(self):\n",
    "        self.a=int(input(\"Enter 1st number\"))\n",
    "        self.b=int(input(\"Enter 2nd number\"))\n",
    "    def display(self):\n",
    "        Division1= self.a/self.b\n",
    "        print(\"Division of two numbers\",Division1)\n",
    "        \n",
    "    def show(self):\n",
    "        print(self.a+self.b)\n",
    "    \n",
    "abc=Division()\n",
    "abc.display()\n",
    "abc.show()"
   ]
  },
  {
   "cell_type": "code",
   "execution_count": 18,
   "id": "febd62a1",
   "metadata": {},
   "outputs": [
    {
     "name": "stdout",
     "output_type": "stream",
     "text": [
      "Sum of two numbers 40\n"
     ]
    }
   ],
   "source": [
    "class Addition():\n",
    "    def __init__(self):\n",
    "        self.a=20\n",
    "        self.b=20\n",
    "    def display(self):\n",
    "        sum1= self.a+self.b\n",
    "        print(\"Sum of two numbers\",sum1)\n",
    "abc=Addition()\n",
    "abc.display()\n",
    "\n"
   ]
  },
  {
   "cell_type": "code",
   "execution_count": 20,
   "id": "1ab1329c",
   "metadata": {},
   "outputs": [
    {
     "name": "stdout",
     "output_type": "stream",
     "text": [
      "Product of two numbers 400\n"
     ]
    }
   ],
   "source": [
    "class Product():\n",
    "    def __init__(self):\n",
    "        self.a=20\n",
    "        self.b=20\n",
    "    def display(self):\n",
    "        Product1= self.a*self.b\n",
    "        print(\"Product of two numbers\",Product1)\n",
    "abc=Product()\n",
    "abc.display()\n",
    "\n"
   ]
  },
  {
   "cell_type": "code",
   "execution_count": 29,
   "id": "d655a850",
   "metadata": {},
   "outputs": [
    {
     "name": "stdout",
     "output_type": "stream",
     "text": [
      "sum 15\n"
     ]
    }
   ],
   "source": [
    "class ABCD():\n",
    "    def __init__(self ,a,b):\n",
    "        self.a=a\n",
    "        self.b=b\n",
    "    def display(self):\n",
    "        sum1= self.a+self.b\n",
    "        print(\"sum\",sum1)\n",
    "abc=ABCD(5,10)\n",
    "abc.display()\n",
    "    "
   ]
  },
  {
   "cell_type": "code",
   "execution_count": 35,
   "id": "2898acc5",
   "metadata": {},
   "outputs": [
    {
     "name": "stdout",
     "output_type": "stream",
     "text": [
      "Enter number:5\n",
      "Enter number:45\n",
      "product 225\n"
     ]
    }
   ],
   "source": [
    "\n",
    "A= int(input(\"Enter number:\"))\n",
    "B= int(input(\"Enter number:\"))\n",
    "\n",
    "class ABCD():\n",
    "    \n",
    "    def __init__(self,a,b):  # a= A, b= B\n",
    "        self.a=a\n",
    "        self.b=b\n",
    "        \n",
    "    def display (self):\n",
    "        product2=self.a*self.b\n",
    "        print(\"product\",product2)\n",
    "        \n",
    "abc=ABCD(A,B)\n",
    "abc.display()\n",
    "    "
   ]
  },
  {
   "cell_type": "code",
   "execution_count": 42,
   "id": "119fddb4",
   "metadata": {},
   "outputs": [
    {
     "name": "stdout",
     "output_type": "stream",
     "text": [
      "after swapping 20\n",
      "after swapping 10\n"
     ]
    }
   ],
   "source": [
    "class ABCD():\n",
    "     \n",
    "    def __init__(self,a,b):\n",
    "        self.a=a\n",
    "        self.b=b\n",
    "        \n",
    "    def swapping(self):\n",
    "        self.c=self.a\n",
    "        self.a=self.b\n",
    "        self.b=self.c\n",
    "        print(\"after swapping\",self.a)\n",
    "        print(\"after swapping\",self.b)\n",
    "   \n",
    "abc=ABCD(10,20)\n",
    "abc.swapping()"
   ]
  },
  {
   "cell_type": "code",
   "execution_count": 43,
   "id": "7f85fb47",
   "metadata": {},
   "outputs": [
    {
     "name": "stdout",
     "output_type": "stream",
     "text": [
      "after swapping 20\n",
      "after swapping 10\n"
     ]
    }
   ],
   "source": [
    "class ABCD():\n",
    "     \n",
    "    def __init__(self,a,b):\n",
    "        self.a=a\n",
    "        self.b=b\n",
    "        self.swapping()\n",
    "        \n",
    "    def swapping(self):\n",
    "        self.c=self.a\n",
    "        self.a=self.b\n",
    "        self.b=self.c\n",
    "        print(\"after swapping\",self.a)\n",
    "        print(\"after swapping\",self.b)\n",
    "   \n",
    "abc=ABCD(10,20)"
   ]
  },
  {
   "cell_type": "code",
   "execution_count": null,
   "id": "a064bb08",
   "metadata": {},
   "outputs": [],
   "source": [
    "class ATM():\n",
    "    def __init__(self):\n",
    "        self.pin=int(input(\"enter pin\"))\n",
    "        "
   ]
  },
  {
   "cell_type": "code",
   "execution_count": null,
   "id": "b49aaf22",
   "metadata": {},
   "outputs": [],
   "source": []
  },
  {
   "cell_type": "code",
   "execution_count": null,
   "id": "797eaa53",
   "metadata": {},
   "outputs": [],
   "source": []
  },
  {
   "cell_type": "code",
   "execution_count": null,
   "id": "557fbac1",
   "metadata": {},
   "outputs": [],
   "source": []
  },
  {
   "cell_type": "code",
   "execution_count": null,
   "id": "bfa1893f",
   "metadata": {},
   "outputs": [],
   "source": []
  },
  {
   "cell_type": "code",
   "execution_count": null,
   "id": "6fa13d66",
   "metadata": {},
   "outputs": [],
   "source": []
  },
  {
   "cell_type": "code",
   "execution_count": null,
   "id": "f2c86ff0",
   "metadata": {},
   "outputs": [],
   "source": []
  },
  {
   "cell_type": "code",
   "execution_count": null,
   "id": "f2c9b6e6",
   "metadata": {},
   "outputs": [],
   "source": []
  }
 ],
 "metadata": {
  "kernelspec": {
   "display_name": "Python 3 (ipykernel)",
   "language": "python",
   "name": "python3"
  },
  "language_info": {
   "codemirror_mode": {
    "name": "ipython",
    "version": 3
   },
   "file_extension": ".py",
   "mimetype": "text/x-python",
   "name": "python",
   "nbconvert_exporter": "python",
   "pygments_lexer": "ipython3",
   "version": "3.11.4"
  }
 },
 "nbformat": 4,
 "nbformat_minor": 5
}
