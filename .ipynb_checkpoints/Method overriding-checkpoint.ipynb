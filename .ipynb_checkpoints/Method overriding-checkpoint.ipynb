{
 "cells": [
  {
   "cell_type": "code",
   "execution_count": 2,
   "id": "63e91ca0",
   "metadata": {},
   "outputs": [
    {
     "name": "stdout",
     "output_type": "stream",
     "text": [
      "Hello from B\n",
      "Hello from class 'A'\n",
      "Hello from B\n",
      "Hello from class 'A'\n"
     ]
    }
   ],
   "source": [
    "class A():\n",
    "    def __init__(self):\n",
    "        print(\"Hello from B\")\n",
    "    def show(self):\n",
    "        print(\"Hello from class 'A'\")\n",
    "class B(A):\n",
    "    def __init(self):\n",
    "        print(\"Hello from class B\")\n",
    "b=B()\n",
    "b.show()\n",
    "a=A()\n",
    "a.show()\n",
    "\n"
   ]
  },
  {
   "cell_type": "code",
   "execution_count": 3,
   "id": "14dfa8ed",
   "metadata": {},
   "outputs": [
    {
     "name": "stdout",
     "output_type": "stream",
     "text": [
      "Hello from B\n",
      "Hello from class 'A'\n"
     ]
    }
   ],
   "source": [
    "class A():\n",
    "    def __init__(self):\n",
    "        print(\"Hello from B\")\n",
    "    def show(self):\n",
    "        print(\"Hello from class 'A'\")\n",
    "class B(A):\n",
    "    def __init(self):\n",
    "        print(\"Hello from class B\")\n",
    "b=B()\n",
    "b.show()\n"
   ]
  },
  {
   "cell_type": "code",
   "execution_count": 4,
   "id": "2b632166",
   "metadata": {},
   "outputs": [
    {
     "name": "stdout",
     "output_type": "stream",
     "text": [
      "Hello from B\n",
      "Hello from class 'A'\n"
     ]
    }
   ],
   "source": [
    "class A():\n",
    "    def __init__(self):\n",
    "        print(\"Hello from B\")\n",
    "    def show(self):\n",
    "        print(\"Hello from class 'A'\")\n",
    "class B(A):\n",
    "    def __init(self):\n",
    "        print(\"Hello from class B\")\n",
    "        A.show()\n",
    "b=B()\n",
    "b.show()\n"
   ]
  },
  {
   "cell_type": "code",
   "execution_count": 11,
   "id": "2c382ced",
   "metadata": {},
   "outputs": [
    {
     "name": "stdout",
     "output_type": "stream",
     "text": [
      "Yours detail from class A\n",
      "Your details from class B\n"
     ]
    }
   ],
   "source": [
    "#method override\n",
    "class A():\n",
    "    def show(self):\n",
    "        print(\"Yours detail from class A\")\n",
    "            \n",
    "class B(A):\n",
    "    def show(self):\n",
    "        A.show(self)\n",
    "        print(\"Your details from class B\")\n",
    "b=B()\n",
    "b.show()\n",
    "# a=A()\n",
    "# a.show()\n",
    "            \n",
    "            \n",
    "\n",
    "                  \n"
   ]
  },
  {
   "cell_type": "code",
   "execution_count": 13,
   "id": "57e8d245",
   "metadata": {},
   "outputs": [
    {
     "name": "stdout",
     "output_type": "stream",
     "text": [
      "Bikal\n",
      "20\n"
     ]
    }
   ],
   "source": [
    "class Person:\n",
    "  def __init__(self, name, age):\n",
    "    self.name = name\n",
    "    self.age = age\n",
    "\n",
    "p1 = Person(\"Bikal\",20)\n",
    "\n",
    "print(p1.name)\n",
    "print(p1.age)"
   ]
  },
  {
   "cell_type": "code",
   "execution_count": 15,
   "id": "b27ca881",
   "metadata": {},
   "outputs": [
    {
     "name": "stdout",
     "output_type": "stream",
     "text": [
      "[1, 2, 3, 4]\n"
     ]
    }
   ],
   "source": [
    "list1=[1,2,3,4]\n",
    "print(list1)"
   ]
  },
  {
   "cell_type": "code",
   "execution_count": 17,
   "id": "3baa51fb",
   "metadata": {},
   "outputs": [
    {
     "name": "stdout",
     "output_type": "stream",
     "text": [
      "(1, 2, 3, 4)\n"
     ]
    }
   ],
   "source": [
    "def convert(list):\n",
    "    return tuple(list)\n",
    " \n",
    "list = [1, 2, 3, 4]\n",
    "print(convert(list))"
   ]
  },
  {
   "cell_type": "code",
   "execution_count": 25,
   "id": "61aa89ac",
   "metadata": {},
   "outputs": [
    {
     "name": "stdout",
     "output_type": "stream",
     "text": [
      "['Ram', 2, 5, 8]\n"
     ]
    }
   ],
   "source": [
    "file1 = open(\"abcd.txt\",\"a\")\n",
    "list1 =[\"Ram\",2,5,8]\n",
    "print(list1)\n",
    "for i in list1:\n",
    "    file1.write(str(i))\n",
    "file1.close()\n"
   ]
  },
  {
   "cell_type": "code",
   "execution_count": 29,
   "id": "e85628ab",
   "metadata": {},
   "outputs": [
    {
     "name": "stdout",
     "output_type": "stream",
     "text": [
      "d\n"
     ]
    }
   ],
   "source": [
    "file1= open(\"abcd.txt\",\"r\")\n",
    "print(file1.read())\n",
    "file1.close()"
   ]
  },
  {
   "cell_type": "code",
   "execution_count": 30,
   "id": "d1c5c193",
   "metadata": {},
   "outputs": [
    {
     "name": "stdout",
     "output_type": "stream",
     "text": [
      "Enter a text:khj\n"
     ]
    }
   ],
   "source": [
    "def ram():\n",
    "    file = open(\"abcd.txt\",\"w\")\n",
    "    user = input(\"Enter a text:\")\n",
    "    file.write(user)\n",
    "    file.close()\n",
    "ram()"
   ]
  },
  {
   "cell_type": "code",
   "execution_count": 33,
   "id": "25c3a2c6",
   "metadata": {},
   "outputs": [
    {
     "name": "stdout",
     "output_type": "stream",
     "text": [
      "<class 'set'>\n"
     ]
    }
   ],
   "source": [
    "set1=set()\n",
    "print(type(set1))"
   ]
  },
  {
   "cell_type": "code",
   "execution_count": null,
   "id": "a9760d76",
   "metadata": {},
   "outputs": [],
   "source": []
  }
 ],
 "metadata": {
  "kernelspec": {
   "display_name": "Python 3 (ipykernel)",
   "language": "python",
   "name": "python3"
  },
  "language_info": {
   "codemirror_mode": {
    "name": "ipython",
    "version": 3
   },
   "file_extension": ".py",
   "mimetype": "text/x-python",
   "name": "python",
   "nbconvert_exporter": "python",
   "pygments_lexer": "ipython3",
   "version": "3.11.4"
  }
 },
 "nbformat": 4,
 "nbformat_minor": 5
}
