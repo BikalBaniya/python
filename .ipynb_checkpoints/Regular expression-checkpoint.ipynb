{
 "cells": [
  {
   "cell_type": "code",
   "execution_count": 9,
   "id": "c65c6164",
   "metadata": {},
   "outputs": [
    {
     "name": "stdout",
     "output_type": "stream",
     "text": [
      "True\n",
      "False\n"
     ]
    }
   ],
   "source": [
    "import re\n",
    "data=\"a ,Hello,Hey\"\n",
    "print(data.startswith('a'))\n",
    "print(data.endswith('s'))"
   ]
  },
  {
   "cell_type": "code",
   "execution_count": 11,
   "id": "03bbfec6",
   "metadata": {},
   "outputs": [
    {
     "name": "stdout",
     "output_type": "stream",
     "text": [
      "True\n",
      "True\n"
     ]
    }
   ],
   "source": [
    "import re\n",
    "data=\"apple,Hello,suns\"\n",
    "print(data.startswith('a'))\n",
    "print(data.endswith('s'))"
   ]
  },
  {
   "cell_type": "code",
   "execution_count": 12,
   "id": "72029d1f",
   "metadata": {},
   "outputs": [
    {
     "name": "stdout",
     "output_type": "stream",
     "text": [
      "False\n",
      "True\n"
     ]
    }
   ],
   "source": [
    "import re\n",
    "data=\"hen ,Hello,ends\"\n",
    "print(data.startswith('a'))\n",
    "print(data.endswith('s'))"
   ]
  },
  {
   "cell_type": "code",
   "execution_count": 27,
   "id": "bbe4c2ea",
   "metadata": {},
   "outputs": [
    {
     "name": "stdout",
     "output_type": "stream",
     "text": [
      "['at']\n",
      "<re.Match object; span=(0, 14), match='The great wall'>\n"
     ]
    }
   ],
   "source": [
    "import re\n",
    "text=\"The great wall\"\n",
    "result=re.search(\"^The.*wall$\",text)\n",
    "result1 =re.findall('at',text)\n",
    "print(result1)\n",
    "print(result)"
   ]
  },
  {
   "cell_type": "code",
   "execution_count": 20,
   "id": "32ccfa05",
   "metadata": {},
   "outputs": [
    {
     "name": "stdout",
     "output_type": "stream",
     "text": [
      "<re.Match object; span=(0, 17), match='The rain in Spain'>\n"
     ]
    }
   ],
   "source": [
    "import re\n",
    "\n",
    "txt = \"The rain in Spain\"\n",
    "x = re.search(\"^The.*Spain$\", txt)\n",
    "print(x)"
   ]
  },
  {
   "cell_type": "code",
   "execution_count": 28,
   "id": "1eaf05f5",
   "metadata": {},
   "outputs": [
    {
     "name": "stdout",
     "output_type": "stream",
     "text": [
      "The first white-space character is located in position: 3\n"
     ]
    }
   ],
   "source": [
    "import re\n",
    "\n",
    "txt = \"The rain in Spain\"\n",
    "x = re.search(\"\\s\", txt)\n",
    "\n",
    "print(\"The first white-space character is located in position:\", x.start())"
   ]
  },
  {
   "cell_type": "markdown",
   "id": "67b359e1",
   "metadata": {},
   "source": [
    "# E-mail validations"
   ]
  },
  {
   "cell_type": "code",
   "execution_count": 37,
   "id": "3a7c6378",
   "metadata": {},
   "outputs": [
    {
     "name": "stdout",
     "output_type": "stream",
     "text": [
      "Enter your email:abc@gmail.com\n",
      "emial valid...\n"
     ]
    }
   ],
   "source": [
    "import re\n",
    "email_formate = r'\\b[a-z A-Z 0-9]+@+[a-z]+\\.[a-z]{2,3}\\b'\n",
    "user_email = input(\"Enter your email:\")\n",
    "if re.fullmatch(email_formate, user_email):\n",
    "    print(\"emial valid...\")\n",
    "else:\n",
    "    print(\"not valid...\")"
   ]
  },
  {
   "cell_type": "code",
   "execution_count": 42,
   "id": "36674e69",
   "metadata": {},
   "outputs": [
    {
     "name": "stdout",
     "output_type": "stream",
     "text": [
      "Enter your phone:9865356223\n",
      "valid phone number\n"
     ]
    }
   ],
   "source": [
    "import re\n",
    "phone_formate= r'\\b[97,98]+[0-9]{8}\\b' \n",
    "user_phone = input(\"Enter your phone:\")\n",
    "if re.fullmatch(phone_formate, user_phone): \n",
    "    print(\"valid phone number\") \n",
    "else:\n",
    "    print(\"not valid phone number\")"
   ]
  },
  {
   "cell_type": "code",
   "execution_count": null,
   "id": "f0721206",
   "metadata": {},
   "outputs": [],
   "source": [
    "import re\n",
    "password_formate=r'\\b[A-Z]+[a-z 0-9]{9}\\b'\n",
    "user_password= input(\"enter a password:\")\n",
    "if re.fullmatch(password_formate, user_password):\n",
    "    print(\"correct\")\n",
    "else:\n",
    "    print(\"not correct\")"
   ]
  },
  {
   "cell_type": "code",
   "execution_count": null,
   "id": "8be011ed",
   "metadata": {},
   "outputs": [],
   "source": []
  }
 ],
 "metadata": {
  "kernelspec": {
   "display_name": "Python 3 (ipykernel)",
   "language": "python",
   "name": "python3"
  },
  "language_info": {
   "codemirror_mode": {
    "name": "ipython",
    "version": 3
   },
   "file_extension": ".py",
   "mimetype": "text/x-python",
   "name": "python",
   "nbconvert_exporter": "python",
   "pygments_lexer": "ipython3",
   "version": "3.11.4"
  }
 },
 "nbformat": 4,
 "nbformat_minor": 5
}
