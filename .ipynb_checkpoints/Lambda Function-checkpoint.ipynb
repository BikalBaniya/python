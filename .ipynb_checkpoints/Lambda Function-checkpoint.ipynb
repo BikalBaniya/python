{
 "cells": [
  {
   "cell_type": "markdown",
   "id": "16c3b297",
   "metadata": {},
   "source": [
    "sysntax:lambda argument expression"
   ]
  },
  {
   "cell_type": "code",
   "execution_count": 2,
   "id": "b1b24109",
   "metadata": {},
   "outputs": [
    {
     "name": "stdout",
     "output_type": "stream",
     "text": [
      "15\n"
     ]
    }
   ],
   "source": [
    "display=lambda x,y:x+y\n",
    "print(display(10,5))"
   ]
  },
  {
   "cell_type": "code",
   "execution_count": 3,
   "id": "10103eb8",
   "metadata": {},
   "outputs": [
    {
     "name": "stdout",
     "output_type": "stream",
     "text": [
      "HELLO WORLD\n"
     ]
    }
   ],
   "source": [
    "abc=\"Hello world\"\n",
    "twxt=lambda string:string.upper()\n",
    "print(twxt(abc))"
   ]
  },
  {
   "cell_type": "code",
   "execution_count": 4,
   "id": "7713a352",
   "metadata": {},
   "outputs": [
    {
     "name": "stdout",
     "output_type": "stream",
     "text": [
      "hi\n"
     ]
    }
   ],
   "source": [
    "abc=\"Hi\"\n",
    "txt=lambda string:string.lower()\n",
    "print(txt(abc))\n",
    "\n"
   ]
  },
  {
   "cell_type": "code",
   "execution_count": 6,
   "id": "89fbdfc1",
   "metadata": {},
   "outputs": [
    {
     "name": "stdout",
     "output_type": "stream",
     "text": [
      "125\n"
     ]
    }
   ],
   "source": [
    "xyz=lambda Y:Y*Y*Y\n",
    "print(xyz(5))\n"
   ]
  },
  {
   "cell_type": "code",
   "execution_count": 12,
   "id": "cb7b4e9f",
   "metadata": {},
   "outputs": [
    {
     "name": "stdout",
     "output_type": "stream",
     "text": [
      "6\n"
     ]
    }
   ],
   "source": [
    "xyz=lambda a,b:a if(a>b)else b\n",
    "print(xyz(5,6))\n"
   ]
  },
  {
   "cell_type": "code",
   "execution_count": 16,
   "id": "f4156510",
   "metadata": {},
   "outputs": [
    {
     "ename": "SyntaxError",
     "evalue": "expected 'else' after 'if' expression (764070688.py, line 1)",
     "output_type": "error",
     "traceback": [
      "\u001b[1;36m  Cell \u001b[1;32mIn[16], line 1\u001b[1;36m\u001b[0m\n\u001b[1;33m    xyz=lambda a,b,c:a if(a>b)(a>c) b elif(b>a)(b>c) else c\u001b[0m\n\u001b[1;37m                     ^\u001b[0m\n\u001b[1;31mSyntaxError\u001b[0m\u001b[1;31m:\u001b[0m expected 'else' after 'if' expression\n"
     ]
    }
   ],
   "source": [
    "xyz=lambda a,b,c:a if(a>b)(a>c) b elif(b>a)(b>c) else c\n",
    "print(xyz(7,9,5))"
   ]
  },
  {
   "cell_type": "code",
   "execution_count": 19,
   "id": "ad33875e",
   "metadata": {},
   "outputs": [
    {
     "ename": "SyntaxError",
     "evalue": "expected 'else' after 'if' expression (2561262724.py, line 1)",
     "output_type": "error",
     "traceback": [
      "\u001b[1;36m  Cell \u001b[1;32mIn[19], line 1\u001b[1;36m\u001b[0m\n\u001b[1;33m    xyz= lambda a,b,c:a if (a>b>c) b elif(b>a>c) else c\u001b[0m\n\u001b[1;37m                      ^\u001b[0m\n\u001b[1;31mSyntaxError\u001b[0m\u001b[1;31m:\u001b[0m expected 'else' after 'if' expression\n"
     ]
    }
   ],
   "source": [
    "xyz= lambda a,b,c:a if (a>b>c) b elif(b>a>c) else c\n",
    "print(xyz(5,6,7))"
   ]
  },
  {
   "cell_type": "code",
   "execution_count": null,
   "id": "01ed9bfc",
   "metadata": {},
   "outputs": [],
   "source": []
  }
 ],
 "metadata": {
  "kernelspec": {
   "display_name": "Python 3 (ipykernel)",
   "language": "python",
   "name": "python3"
  },
  "language_info": {
   "codemirror_mode": {
    "name": "ipython",
    "version": 3
   },
   "file_extension": ".py",
   "mimetype": "text/x-python",
   "name": "python",
   "nbconvert_exporter": "python",
   "pygments_lexer": "ipython3",
   "version": "3.11.4"
  }
 },
 "nbformat": 4,
 "nbformat_minor": 5
}
