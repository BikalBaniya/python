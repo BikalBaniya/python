{
 "cells": [
  {
   "cell_type": "code",
   "execution_count": 9,
   "id": "cff60895",
   "metadata": {},
   "outputs": [
    {
     "name": "stdout",
     "output_type": "stream",
     "text": [
      "Bikal\n"
     ]
    }
   ],
   "source": [
    "class ABC():\n",
    "    def __init__(self):\n",
    "        print(\"Bikal\")\n",
    "abc=ABC()"
   ]
  },
  {
   "cell_type": "code",
   "execution_count": 12,
   "id": "a08da842",
   "metadata": {},
   "outputs": [
    {
     "name": "stdout",
     "output_type": "stream",
     "text": [
      "30\n"
     ]
    }
   ],
   "source": [
    "class Addition():\n",
    "    def __init__(self):\n",
    "        self.a=10\n",
    "        self.b=20\n",
    "        print(self.a+self.b)\n",
    "add=Addition()"
   ]
  },
  {
   "cell_type": "code",
   "execution_count": 13,
   "id": "c3386dc5",
   "metadata": {},
   "outputs": [
    {
     "name": "stdout",
     "output_type": "stream",
     "text": [
      "0\n"
     ]
    }
   ],
   "source": [
    "class Difference():\n",
    "    def __init__(self):\n",
    "        self.a=20\n",
    "        self.b=20\n",
    "        print(self.a-self.b)\n",
    "sub=Difference()\n"
   ]
  },
  {
   "cell_type": "code",
   "execution_count": 26,
   "id": "9dd23a27",
   "metadata": {},
   "outputs": [
    {
     "name": "stdout",
     "output_type": "stream",
     "text": [
      "Enter 1st number5\n",
      "Enter 2nd number8\n",
      "Product of two numbers 40\n",
      "13\n"
     ]
    }
   ],
   "source": [
    "class Product():\n",
    "    def __init__(self):\n",
    "        self.a=int(input(\"Enter 1st number\"))\n",
    "        self.b=int(input(\"Enter 2nd number\"))\n",
    "    def display(self):\n",
    "        Product1= self.a*self.b\n",
    "        print(\"Product of two numbers\",Product1)\n",
    "    def show(self):\n",
    "        print(self.a+self.b)\n",
    "    \n",
    "abc=Product()\n",
    "abc.display()\n",
    "abc.show()\n",
    "\n",
    "        "
   ]
  },
  {
   "cell_type": "code",
   "execution_count": 27,
   "id": "3694ecd7",
   "metadata": {},
   "outputs": [
    {
     "name": "stdout",
     "output_type": "stream",
     "text": [
      "Enter 1st number10\n",
      "Enter 2nd number2\n",
      "Division of two numbers 5.0\n",
      "12\n"
     ]
    }
   ],
   "source": [
    "class Division():\n",
    "    def __init__(self):\n",
    "        self.a=int(input(\"Enter 1st number\"))\n",
    "        self.b=int(input(\"Enter 2nd number\"))\n",
    "    def display(self):\n",
    "        Division1= self.a/self.b\n",
    "        print(\"Division of two numbers\",Division1)\n",
    "        \n",
    "    def show(self):\n",
    "        print(self.a+self.b)\n",
    "    \n",
    "abc=Division()\n",
    "abc.display()\n",
    "abc.show()"
   ]
  },
  {
   "cell_type": "code",
   "execution_count": 18,
   "id": "369aa723",
   "metadata": {},
   "outputs": [
    {
     "name": "stdout",
     "output_type": "stream",
     "text": [
      "Sum of two numbers 40\n"
     ]
    }
   ],
   "source": [
    "class Addition():\n",
    "    def __init__(self):\n",
    "        self.a=20\n",
    "        self.b=20\n",
    "    def display(self):\n",
    "        sum1= self.a+self.b\n",
    "        print(\"Sum of two numbers\",sum1)\n",
    "abc=Addition()\n",
    "abc.display()\n",
    "\n"
   ]
  },
  {
   "cell_type": "code",
   "execution_count": 20,
   "id": "03a33705",
   "metadata": {},
   "outputs": [
    {
     "name": "stdout",
     "output_type": "stream",
     "text": [
      "Product of two numbers 400\n"
     ]
    }
   ],
   "source": [
    "class Product():\n",
    "    def __init__(self):\n",
    "        self.a=20\n",
    "        self.b=20\n",
    "    def display(self):\n",
    "        Product1= self.a*self.b\n",
    "        print(\"Product of two numbers\",Product1)\n",
    "abc=Product()\n",
    "abc.display()\n",
    "\n"
   ]
  },
  {
   "cell_type": "code",
   "execution_count": 29,
   "id": "0fa8fe36",
   "metadata": {},
   "outputs": [
    {
     "name": "stdout",
     "output_type": "stream",
     "text": [
      "sum 15\n"
     ]
    }
   ],
   "source": [
    "class ABCD():\n",
    "    def __init__(self ,a,b):\n",
    "        self.a=a\n",
    "        self.b=b\n",
    "    def display(self):\n",
    "        sum1= self.a+self.b\n",
    "        print(\"sum\",sum1)\n",
    "abc=ABCD(5,10)\n",
    "abc.display()\n",
    "    "
   ]
  },
  {
   "cell_type": "code",
   "execution_count": 35,
   "id": "3882533e",
   "metadata": {},
   "outputs": [
    {
     "name": "stdout",
     "output_type": "stream",
     "text": [
      "Enter number:5\n",
      "Enter number:45\n",
      "product 225\n"
     ]
    }
   ],
   "source": [
    "\n",
    "A= int(input(\"Enter number:\"))\n",
    "B= int(input(\"Enter number:\"))\n",
    "\n",
    "class ABCD():\n",
    "    \n",
    "    def __init__(self,a,b):  # a= A, b= B\n",
    "        self.a=a\n",
    "        self.b=b\n",
    "        \n",
    "    def display (self):\n",
    "        product2=self.a*self.b\n",
    "        print(\"product\",product2)\n",
    "        \n",
    "abc=ABCD(A,B)\n",
    "abc.display()\n",
    "    "
   ]
  },
  {
   "cell_type": "code",
   "execution_count": 42,
   "id": "f6c68604",
   "metadata": {},
   "outputs": [
    {
     "name": "stdout",
     "output_type": "stream",
     "text": [
      "after swapping 20\n",
      "after swapping 10\n"
     ]
    }
   ],
   "source": [
    "class ABCD():\n",
    "     \n",
    "    def __init__(self,a,b):\n",
    "        self.a=a\n",
    "        self.b=b\n",
    "        \n",
    "    def swapping(self):\n",
    "        self.c=self.a\n",
    "        self.a=self.b\n",
    "        self.b=self.c\n",
    "        print(\"after swapping\",self.a)\n",
    "        print(\"after swapping\",self.b)\n",
    "   \n",
    "abc=ABCD(10,20)\n",
    "abc.swapping()"
   ]
  },
  {
   "cell_type": "code",
   "execution_count": 43,
   "id": "163ae2de",
   "metadata": {},
   "outputs": [
    {
     "name": "stdout",
     "output_type": "stream",
     "text": [
      "after swapping 20\n",
      "after swapping 10\n"
     ]
    }
   ],
   "source": [
    "class ABCD():\n",
    "     \n",
    "    def __init__(self,a,b):\n",
    "        self.a=a\n",
    "        self.b=b\n",
    "        self.swapping()\n",
    "        \n",
    "    def swapping(self):\n",
    "        self.c=self.a\n",
    "        self.a=self.b\n",
    "        self.b=self.c\n",
    "        print(\"after swapping\",self.a)\n",
    "        print(\"after swapping\",self.b)\n",
    "   \n",
    "abc=ABCD(10,20)"
   ]
  },
  {
   "cell_type": "code",
   "execution_count": 6,
   "id": "00896807",
   "metadata": {},
   "outputs": [
    {
     "ename": "SyntaxError",
     "evalue": "invalid syntax (2536859901.py, line 28)",
     "output_type": "error",
     "traceback": [
      "\u001b[1;36m  Cell \u001b[1;32mIn[6], line 28\u001b[1;36m\u001b[0m\n\u001b[1;33m    else:\u001b[0m\n\u001b[1;37m    ^\u001b[0m\n\u001b[1;31mSyntaxError\u001b[0m\u001b[1;31m:\u001b[0m invalid syntax\n"
     ]
    }
   ],
   "source": [
    "class ATM():\n",
    "    def __init__(self):\n",
    "        self.pin=None\n",
    "        self.balance=10000\n",
    "        self.menu()\n",
    "    def menu(self):\n",
    "        print(\"/1 create pin,/2withdraw,/3deposit,/4exit\")\n",
    "        userchoice=int(input(\"Enter number\"))\n",
    "        if userchoice == 1:\n",
    "            pass\n",
    "        elif userchoice == 2:\n",
    "            pass\n",
    "        elif userchoice == 3:\n",
    "            pass\n",
    "        elif userchoice == 4:\n",
    "            pass\n",
    "        else:\n",
    "            print(\"Enter correct number\")\n",
    "            self.menu()\n",
    "    def createPin(self):\n",
    "        pinnumber=int(input(\"enter your pin\"))\n",
    "        self.pin=pinnumber\n",
    "        self.menu()\n",
    "    def withdraw(self):\n",
    "        if self.pin is None:\n",
    "            print(\"Create Pin First\")\n",
    "            self.createPin()\n",
    "    else:\n",
    "        uPin= int(input(\"Enter your pin\"))\n",
    "        if upin==self.pin:\n",
    "            amount=int(input(\"Enter withdraw amount\"))\n",
    "            newAmount=self.balance -amount\n",
    "            self.balance=newAmount\n",
    "            pritn(\"Your total amount after withdraw\",self.balance)\n",
    "            self.menu()\n",
    "atm=ATM()\n",
    "        "
   ]
  },
  {
   "cell_type": "code",
   "execution_count": null,
   "id": "77d9eba0",
   "metadata": {},
   "outputs": [],
   "source": [
    "class ATM():\n",
    "    def __init__(self):\n",
    "        self.pin=None\n",
    "        self.balance=10000\n",
    "        self.menu()\n",
    "    def menu(self):\n",
    "        print(\"/1 create pin,/2withdraw,/3deposit,/4exit\")\n",
    "        userchoice=int(input(\"Enter number\"))\n",
    "        if userchoice == 1:\n",
    "            self.createPin()\n",
    "        elif userchoice == 2:\n",
    "            \n",
    "        elif userchoice == 3:\n",
    "            pass\n",
    "        elif userchoice == 4:\n",
    "            pass\n",
    "        else:\n",
    "            print(\"Enter correct number\")\n",
    "            self.menu()\n",
    "    def createPin(self):\n",
    "        pinnumber=int(input(\"enter your pin\"))\n",
    "        self.pin=pinnumber\n",
    "        self.menu()\n",
    "    def withdraw(self):\n",
    "        if self.pin is None:\n",
    "            print(\"Create Pin First\")\n",
    "            self.createPin()\n",
    "    else:\n",
    "        uPin= int(input(\"Enter your pin\"))\n",
    "        if upin==self.pin:\n",
    "            amount=int(input(\"Enter withdraw amount\"))\n",
    "            newAmount=self.balance -amount\n",
    "            self.balance=newAmount\n",
    "            pritn(\"Your total amount after withdraw\",self.balance)\n",
    "            self.menu()\n",
    "atm=ATM()\n",
    "        "
   ]
  },
  {
   "cell_type": "code",
   "execution_count": null,
   "id": "5dda9297",
   "metadata": {},
   "outputs": [],
   "source": []
  },
  {
   "cell_type": "code",
   "execution_count": null,
   "id": "345f9315",
   "metadata": {},
   "outputs": [],
   "source": []
  },
  {
   "cell_type": "code",
   "execution_count": null,
   "id": "30c7d746",
   "metadata": {},
   "outputs": [],
   "source": []
  },
  {
   "cell_type": "code",
   "execution_count": null,
   "id": "ee15cf30",
   "metadata": {},
   "outputs": [],
   "source": []
  },
  {
   "cell_type": "code",
   "execution_count": null,
   "id": "69b2ec31",
   "metadata": {},
   "outputs": [],
   "source": []
  },
  {
   "cell_type": "code",
   "execution_count": null,
   "id": "e4f3a1e5",
   "metadata": {},
   "outputs": [],
   "source": []
  }
 ],
 "metadata": {
  "kernelspec": {
   "display_name": "Python 3 (ipykernel)",
   "language": "python",
   "name": "python3"
  },
  "language_info": {
   "codemirror_mode": {
    "name": "ipython",
    "version": 3
   },
   "file_extension": ".py",
   "mimetype": "text/x-python",
   "name": "python",
   "nbconvert_exporter": "python",
   "pygments_lexer": "ipython3",
   "version": "3.11.4"
  }
 },
 "nbformat": 4,
 "nbformat_minor": 5
}
