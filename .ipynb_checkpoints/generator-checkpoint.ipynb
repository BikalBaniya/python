{
 "cells": [
  {
   "cell_type": "code",
   "execution_count": 5,
   "id": "595e7dff",
   "metadata": {},
   "outputs": [
    {
     "name": "stdout",
     "output_type": "stream",
     "text": [
      "Hello\n",
      "Hi Hello\n"
     ]
    }
   ],
   "source": [
    "nested function\n",
    "\n",
    "def ABC(xyz):\n",
    "    print(xyz)\n",
    "    def show():\n",
    "        print(\"Hi\",xyz)\n",
    "    show()    \n",
    "ABC(\"Hello\")        \n",
    "\n",
    "            "
   ]
  },
  {
   "cell_type": "code",
   "execution_count": 13,
   "id": "59d4c55f",
   "metadata": {},
   "outputs": [
    {
     "name": "stdout",
     "output_type": "stream",
     "text": [
      "sum of of number 3\n"
     ]
    }
   ],
   "source": [
    "def XYZ():\n",
    "    x=1\n",
    "    y=2\n",
    "    z=x+y\n",
    "    \n",
    "    def show():\n",
    "        print(\"sum of of number\",x+y)\n",
    "    show()\n",
    "XYZ()\n",
    "        "
   ]
  },
  {
   "cell_type": "code",
   "execution_count": 34,
   "id": "4b2ee5b6",
   "metadata": {},
   "outputs": [
    {
     "ename": "NameError",
     "evalue": "name 'b' is not defined",
     "output_type": "error",
     "traceback": [
      "\u001b[1;31m---------------------------------------------------------------------------\u001b[0m",
      "\u001b[1;31mNameError\u001b[0m                                 Traceback (most recent call last)",
      "Cell \u001b[1;32mIn[34], line 10\u001b[0m\n\u001b[0;32m      8\u001b[0m         \u001b[38;5;28mprint\u001b[39m(list1)\n\u001b[0;32m      9\u001b[0m     display(c)\n\u001b[1;32m---> 10\u001b[0m \u001b[43mABCD\u001b[49m\u001b[43m(\u001b[49m\u001b[38;5;241;43m5\u001b[39;49m\u001b[43m)\u001b[49m\n",
      "Cell \u001b[1;32mIn[34], line 2\u001b[0m, in \u001b[0;36mABCD\u001b[1;34m(a)\u001b[0m\n\u001b[0;32m      1\u001b[0m \u001b[38;5;28;01mdef\u001b[39;00m \u001b[38;5;21mABCD\u001b[39m(a):\n\u001b[1;32m----> 2\u001b[0m     c\u001b[38;5;241m=\u001b[39m\u001b[43mb\u001b[49m\n\u001b[0;32m      3\u001b[0m     \u001b[38;5;28;01mdef\u001b[39;00m \u001b[38;5;21mdisplay\u001b[39m(d):\n\u001b[0;32m      4\u001b[0m         List1\u001b[38;5;241m=\u001b[39m[]\n",
      "\u001b[1;31mNameError\u001b[0m: name 'b' is not defined"
     ]
    }
   ],
   "source": [
    "def ABCD(a):\n",
    "    c=b\n",
    "    def display(d):\n",
    "        List1=[]\n",
    "        for i in range(d):\n",
    "            username=input(\"enter the user name\")\n",
    "            list1.extend(str(username))\n",
    "        print(list1)\n",
    "    display(c)\n",
    "ABCD(5)\n"
   ]
  },
  {
   "cell_type": "code",
   "execution_count": 31,
   "id": "6169bf89",
   "metadata": {},
   "outputs": [
    {
     "name": "stdout",
     "output_type": "stream",
     "text": [
      "Hello\n"
     ]
    }
   ],
   "source": [
    "def ABC():\n",
    "    return(\"Hello\")\n",
    "xy=ABC()\n",
    "print(xy)"
   ]
  },
  {
   "cell_type": "code",
   "execution_count": 32,
   "id": "ba4d2e7e",
   "metadata": {},
   "outputs": [
    {
     "name": "stdout",
     "output_type": "stream",
     "text": [
      "sum of two number 3\n",
      "3\n"
     ]
    }
   ],
   "source": [
    "def ABC():\n",
    "    a=1\n",
    "    b=2\n",
    "    c=a+b\n",
    "    print(\"sum of two number\",c)\n",
    "    return(c)\n",
    "xy=ABC()\n",
    "print(xy)"
   ]
  },
  {
   "cell_type": "code",
   "execution_count": 36,
   "id": "dd9f51c6",
   "metadata": {},
   "outputs": [
    {
     "name": "stdout",
     "output_type": "stream",
     "text": [
      "sum of of number 3\n",
      "None\n"
     ]
    }
   ],
   "source": [
    "#generator\n",
    "\n",
    "def xyz():\n",
    "    yeild(\"xyz\")\n",
    "x=XYZ()\n",
    "print(x)\n"
   ]
  },
  {
   "cell_type": "code",
   "execution_count": null,
   "id": "fd00c49c",
   "metadata": {},
   "outputs": [],
   "source": []
  },
  {
   "cell_type": "code",
   "execution_count": null,
   "id": "51f84ffc",
   "metadata": {},
   "outputs": [],
   "source": []
  }
 ],
 "metadata": {
  "kernelspec": {
   "display_name": "Python 3 (ipykernel)",
   "language": "python",
   "name": "python3"
  },
  "language_info": {
   "codemirror_mode": {
    "name": "ipython",
    "version": 3
   },
   "file_extension": ".py",
   "mimetype": "text/x-python",
   "name": "python",
   "nbconvert_exporter": "python",
   "pygments_lexer": "ipython3",
   "version": "3.11.4"
  }
 },
 "nbformat": 4,
 "nbformat_minor": 5
}
