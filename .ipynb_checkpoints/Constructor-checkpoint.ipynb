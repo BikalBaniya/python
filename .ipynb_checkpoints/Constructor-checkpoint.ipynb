{
 "cells": [
  {
   "cell_type": "code",
   "execution_count": 9,
   "id": "74456d38",
   "metadata": {},
   "outputs": [
    {
     "name": "stdout",
     "output_type": "stream",
     "text": [
      "Bikal\n"
     ]
    }
   ],
   "source": [
    "class ABC():\n",
    "    def __init__(self):\n",
    "        print(\"Bikal\")\n",
    "abc=ABC()"
   ]
  },
  {
   "cell_type": "code",
   "execution_count": 12,
   "id": "0adf4b80",
   "metadata": {},
   "outputs": [
    {
     "name": "stdout",
     "output_type": "stream",
     "text": [
      "30\n"
     ]
    }
   ],
   "source": [
    "class Addition():\n",
    "    def __init__(self):\n",
    "        self.a=10\n",
    "        self.b=20\n",
    "        print(self.a+self.b)\n",
    "add=Addition()"
   ]
  },
  {
   "cell_type": "code",
   "execution_count": 13,
   "id": "7bc292b8",
   "metadata": {},
   "outputs": [
    {
     "name": "stdout",
     "output_type": "stream",
     "text": [
      "0\n"
     ]
    }
   ],
   "source": [
    "class Difference():\n",
    "    def __init__(self):\n",
    "        self.a=20\n",
    "        self.b=20\n",
    "        print(self.a-self.b)\n",
    "sub=Difference()\n"
   ]
  },
  {
   "cell_type": "code",
   "execution_count": 26,
   "id": "47a2aebf",
   "metadata": {},
   "outputs": [
    {
     "name": "stdout",
     "output_type": "stream",
     "text": [
      "Enter 1st number5\n",
      "Enter 2nd number8\n",
      "Product of two numbers 40\n",
      "13\n"
     ]
    }
   ],
   "source": [
    "class Product():\n",
    "    def __init__(self):\n",
    "        self.a=int(input(\"Enter 1st number\"))\n",
    "        self.b=int(input(\"Enter 2nd number\"))\n",
    "    def display(self):\n",
    "        Product1= self.a*self.b\n",
    "        print(\"Product of two numbers\",Product1)\n",
    "    def show(self):\n",
    "        print(self.a+self.b)\n",
    "    \n",
    "abc=Product()\n",
    "abc.display()\n",
    "abc.show()\n",
    "\n",
    "        "
   ]
  },
  {
   "cell_type": "code",
   "execution_count": 27,
   "id": "1906fb53",
   "metadata": {},
   "outputs": [
    {
     "name": "stdout",
     "output_type": "stream",
     "text": [
      "Enter 1st number10\n",
      "Enter 2nd number2\n",
      "Division of two numbers 5.0\n",
      "12\n"
     ]
    }
   ],
   "source": [
    "class Division():\n",
    "    def __init__(self):\n",
    "        self.a=int(input(\"Enter 1st number\"))\n",
    "        self.b=int(input(\"Enter 2nd number\"))\n",
    "    def display(self):\n",
    "        Division1= self.a/self.b\n",
    "        print(\"Division of two numbers\",Division1)\n",
    "        \n",
    "    def show(self):\n",
    "        print(self.a+self.b)\n",
    "    \n",
    "abc=Division()\n",
    "abc.display()\n",
    "abc.show()"
   ]
  },
  {
   "cell_type": "code",
   "execution_count": 18,
   "id": "5d9f22bd",
   "metadata": {},
   "outputs": [
    {
     "name": "stdout",
     "output_type": "stream",
     "text": [
      "Sum of two numbers 40\n"
     ]
    }
   ],
   "source": [
    "class Addition():\n",
    "    def __init__(self):\n",
    "        self.a=20\n",
    "        self.b=20\n",
    "    def display(self):\n",
    "        sum1= self.a+self.b\n",
    "        print(\"Sum of two numbers\",sum1)\n",
    "abc=Addition()\n",
    "abc.display()\n",
    "\n"
   ]
  },
  {
   "cell_type": "code",
   "execution_count": 20,
   "id": "178244d9",
   "metadata": {},
   "outputs": [
    {
     "name": "stdout",
     "output_type": "stream",
     "text": [
      "Product of two numbers 400\n"
     ]
    }
   ],
   "source": [
    "class Product():\n",
    "    def __init__(self):\n",
    "        self.a=20\n",
    "        self.b=20\n",
    "    def display(self):\n",
    "        Product1= self.a*self.b\n",
    "        print(\"Product of two numbers\",Product1)\n",
    "abc=Product()\n",
    "abc.display()\n",
    "\n"
   ]
  },
  {
   "cell_type": "code",
   "execution_count": 29,
   "id": "6cf1ef51",
   "metadata": {},
   "outputs": [
    {
     "name": "stdout",
     "output_type": "stream",
     "text": [
      "sum 15\n"
     ]
    }
   ],
   "source": [
    "class ABCD():\n",
    "    def __init__(self ,a,b):\n",
    "        self.a=a\n",
    "        self.b=b\n",
    "    def display(self):\n",
    "        sum1= self.a+self.b\n",
    "        print(\"sum\",sum1)\n",
    "abc=ABCD(5,10)\n",
    "abc.display()\n",
    "    "
   ]
  },
  {
   "cell_type": "code",
   "execution_count": 34,
   "id": "8273e344",
   "metadata": {},
   "outputs": [
    {
     "name": "stdout",
     "output_type": "stream",
     "text": [
      "Enter number:4\n",
      "Enter number:5\n",
      "product 20\n"
     ]
    }
   ],
   "source": [
    "\n",
    "A= int(input(\"Enter number:\"))\n",
    "B= int(input(\"Enter number:\"))\n",
    "\n",
    "class ABCD():\n",
    "    \n",
    "    def __init__(self,a,b):  # a= A, b= B\n",
    "        self.a=a\n",
    "        self.b=b\n",
    "        \n",
    "    def display (self):\n",
    "        product2=self.a*self.b\n",
    "        print(\"product\",product2)\n",
    "        \n",
    "abc=ABCD(A,B)\n",
    "abc.display()\n",
    "    "
   ]
  },
  {
   "cell_type": "code",
   "execution_count": null,
   "id": "993b77d9",
   "metadata": {},
   "outputs": [],
   "source": []
  },
  {
   "cell_type": "code",
   "execution_count": null,
   "id": "3122abd4",
   "metadata": {},
   "outputs": [],
   "source": []
  },
  {
   "cell_type": "code",
   "execution_count": null,
   "id": "916d2345",
   "metadata": {},
   "outputs": [],
   "source": []
  },
  {
   "cell_type": "code",
   "execution_count": null,
   "id": "df674d41",
   "metadata": {},
   "outputs": [],
   "source": []
  },
  {
   "cell_type": "code",
   "execution_count": null,
   "id": "e25c608e",
   "metadata": {},
   "outputs": [],
   "source": []
  },
  {
   "cell_type": "code",
   "execution_count": null,
   "id": "715863ee",
   "metadata": {},
   "outputs": [],
   "source": []
  },
  {
   "cell_type": "code",
   "execution_count": null,
   "id": "ccdbb5af",
   "metadata": {},
   "outputs": [],
   "source": []
  },
  {
   "cell_type": "code",
   "execution_count": null,
   "id": "38e8082f",
   "metadata": {},
   "outputs": [],
   "source": []
  },
  {
   "cell_type": "code",
   "execution_count": null,
   "id": "925c5dac",
   "metadata": {},
   "outputs": [],
   "source": []
  },
  {
   "cell_type": "code",
   "execution_count": null,
   "id": "5ee93ab6",
   "metadata": {},
   "outputs": [],
   "source": []
  }
 ],
 "metadata": {
  "kernelspec": {
   "display_name": "Python 3 (ipykernel)",
   "language": "python",
   "name": "python3"
  },
  "language_info": {
   "codemirror_mode": {
    "name": "ipython",
    "version": 3
   },
   "file_extension": ".py",
   "mimetype": "text/x-python",
   "name": "python",
   "nbconvert_exporter": "python",
   "pygments_lexer": "ipython3",
   "version": "3.11.4"
  }
 },
 "nbformat": 4,
 "nbformat_minor": 5
}
